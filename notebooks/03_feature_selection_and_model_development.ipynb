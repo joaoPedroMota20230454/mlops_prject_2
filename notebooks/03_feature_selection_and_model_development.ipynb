{
 "cells": [
  {
   "cell_type": "code",
   "execution_count": null,
   "metadata": {},
   "outputs": [],
   "source": [
    "# tree importances"
   ]
  },
  {
   "cell_type": "code",
   "execution_count": null,
   "metadata": {},
   "outputs": [],
   "source": [
    "# random forest"
   ]
  },
  {
   "cell_type": "code",
   "execution_count": 2,
   "metadata": {},
   "outputs": [
    {
     "name": "stdout",
     "output_type": "stream",
     "text": [
      "Collecting optuna\n",
      "  Using cached optuna-3.6.1-py3-none-any.whl.metadata (17 kB)\n",
      "Requirement already satisfied: alembic>=1.5.0 in c:\\users\\joaop\\desktop\\mestrado\\1º ano\\2º semestre\\mlops\\laboratório de mlops\\mlops\\lib\\site-packages (from optuna) (1.13.1)\n",
      "Collecting colorlog (from optuna)\n",
      "  Using cached colorlog-6.8.2-py3-none-any.whl.metadata (10 kB)\n",
      "Requirement already satisfied: numpy in c:\\users\\joaop\\desktop\\mestrado\\1º ano\\2º semestre\\mlops\\laboratório de mlops\\mlops\\lib\\site-packages (from optuna) (1.26.4)\n",
      "Requirement already satisfied: packaging>=20.0 in c:\\users\\joaop\\desktop\\mestrado\\1º ano\\2º semestre\\mlops\\laboratório de mlops\\mlops\\lib\\site-packages (from optuna) (23.2)\n",
      "Requirement already satisfied: sqlalchemy>=1.3.0 in c:\\users\\joaop\\desktop\\mestrado\\1º ano\\2º semestre\\mlops\\laboratório de mlops\\mlops\\lib\\site-packages (from optuna) (1.4.48)\n",
      "Requirement already satisfied: tqdm in c:\\users\\joaop\\desktop\\mestrado\\1º ano\\2º semestre\\mlops\\laboratório de mlops\\mlops\\lib\\site-packages (from optuna) (4.66.2)\n",
      "Requirement already satisfied: PyYAML in c:\\users\\joaop\\desktop\\mestrado\\1º ano\\2º semestre\\mlops\\laboratório de mlops\\mlops\\lib\\site-packages (from optuna) (6.0.1)\n",
      "Requirement already satisfied: Mako in c:\\users\\joaop\\desktop\\mestrado\\1º ano\\2º semestre\\mlops\\laboratório de mlops\\mlops\\lib\\site-packages (from alembic>=1.5.0->optuna) (1.3.3)\n",
      "Requirement already satisfied: typing-extensions>=4 in c:\\users\\joaop\\desktop\\mestrado\\1º ano\\2º semestre\\mlops\\laboratório de mlops\\mlops\\lib\\site-packages (from alembic>=1.5.0->optuna) (4.11.0)\n",
      "Requirement already satisfied: greenlet!=0.4.17 in c:\\users\\joaop\\desktop\\mestrado\\1º ano\\2º semestre\\mlops\\laboratório de mlops\\mlops\\lib\\site-packages (from sqlalchemy>=1.3.0->optuna) (3.0.3)\n",
      "Requirement already satisfied: colorama in c:\\users\\joaop\\desktop\\mestrado\\1º ano\\2º semestre\\mlops\\laboratório de mlops\\mlops\\lib\\site-packages (from colorlog->optuna) (0.4.6)\n",
      "Requirement already satisfied: MarkupSafe>=0.9.2 in c:\\users\\joaop\\desktop\\mestrado\\1º ano\\2º semestre\\mlops\\laboratório de mlops\\mlops\\lib\\site-packages (from Mako->alembic>=1.5.0->optuna) (2.1.5)\n",
      "Using cached optuna-3.6.1-py3-none-any.whl (380 kB)\n",
      "Using cached colorlog-6.8.2-py3-none-any.whl (11 kB)\n",
      "Installing collected packages: colorlog, optuna\n",
      "Successfully installed colorlog-6.8.2 optuna-3.6.1\n"
     ]
    }
   ],
   "source": [
    "!pip install optuna"
   ]
  },
  {
   "cell_type": "code",
   "execution_count": 4,
   "metadata": {},
   "outputs": [],
   "source": [
    "from sklearn.ensemble import RandomForestClassifier\n",
    "import optuna\n",
    "import mlflow\n",
    "import os\n",
    "import pandas as pd\n",
    "from sklearn.metrics import f1_score\n",
    "pd.set_option('display.max_columns', None)"
   ]
  },
  {
   "cell_type": "code",
   "execution_count": 31,
   "metadata": {},
   "outputs": [],
   "source": [
    "def get_or_create_experiment(experiment_name):\n",
    "    \"\"\"\n",
    "    Retrieve the ID of an existing MLflow experiment or create a new one if it doesn't exist.\n",
    "\n",
    "    This function checks if an experiment with the given name exists within MLflow.\n",
    "    If it does, the function returns its ID. If not, it creates a new experiment\n",
    "    with the provided name and returns its ID.\n",
    "\n",
    "    Parameters:\n",
    "    - experiment_name (str): Name of the MLflow experiment.\n",
    "\n",
    "    Returns:\n",
    "    - str: ID of the existing or newly created MLflow experiment.\n",
    "    \"\"\"\n",
    "\n",
    "    if experiment := mlflow.get_experiment_by_name(experiment_name):\n",
    "        print(\"vim para aqui!\")\n",
    "        return experiment.experiment_id\n",
    "    else:\n",
    "        print(\"estou aqui!\")\n",
    "        return mlflow.create_experiment(experiment_name)"
   ]
  },
  {
   "cell_type": "code",
   "execution_count": null,
   "metadata": {},
   "outputs": [],
   "source": []
  },
  {
   "cell_type": "code",
   "execution_count": 43,
   "metadata": {},
   "outputs": [],
   "source": [
    "def objective(trial):\n",
    "    with mlflow.start_run(nested=True, experiment_id=337532007981365636):\n",
    "        if True:\n",
    "            train_path = os.path.join(os.path.join(\"..\\\\data\\\\03_primary\\\\X_train_cleaned.csv\"))\n",
    "            target_path = os.path.join(os.path.join(\"..\\\\data\\\\03_primary\\\\y_train_cleaned.csv\"))\n",
    "            # Load the data\n",
    "            X_train = pd.read_csv(train_path)\n",
    "            y_train = pd.read_csv(target_path)\n",
    "\n",
    "\n",
    "\n",
    "\n",
    "            # load test data\n",
    "            X_test = pd.read_csv(os.path.join(\"..\\\\data\\\\03_primary\\\\X_test_cleaned.csv\"))\n",
    "            y_test = pd.read_csv(os.path.join(\"..\\\\data\\\\03_primary\\\\y_test_cleaned.csv\"))\n",
    "\n",
    "            dataset_all_together = pd.merge(X_train, y_train, left_index=True, right_index=True)\n",
    "            dataset_all_together_test = pd.merge(X_test, y_test, left_index=True, right_index=True)\n",
    "\n",
    "            # display(X_train.head(3))\n",
    "            # jasdhasjkasgashjgas\n",
    "            cols_to_drop_temp = [\"diag_1\", \"diag_2\", \"diag_3\"]\n",
    "\n",
    "            dataset_all_together.drop(cols_to_drop_temp, axis=1, inplace=True)\n",
    "            dataset_all_together_test.drop(cols_to_drop_temp, axis=1, inplace=True)\n",
    "            X_train = dataset_all_together.drop('readmitted', axis=1)\n",
    "            y_train = dataset_all_together['readmitted']\n",
    "\n",
    "            X_test = dataset_all_together_test.drop('readmitted', axis=1)\n",
    "            y_test = dataset_all_together_test['readmitted']\n",
    "\n",
    "\n",
    "        # Create th \n",
    "    # Define the hyperparameter space\n",
    "    # n_estimators = trial.suggest_int('n_estimators', 10, 40, step=5)\n",
    "    # max_depth = trial.suggest_int('max_depth', 2, 32, step=5)\n",
    "    # min_samples_split = trial.suggest_int('min_samples_split', 30, 80,step=10)\n",
    "    # min_samples_leaf = trial.suggest_int('min_samples_leaf', 11, 31 ,step=5)\n",
    "    # max_features = trial.suggest_categorical('max_features', [None, 'sqrt', 'log2'])\n",
    "        params = {\n",
    "            \"n_estimators\": trial.suggest_categorical(\"n_estimators\", [10, 20, 30, 40, 50, 100, 200]),\n",
    "            \"max_depth\": trial.suggest_categorical(\"max_depth\", [2, 5, 10, 20, 30, 40, 50, 100]),\n",
    "            \"min_samples_split\": trial.suggest_categorical(\"min_samples_split\", [10, 15, 20, 30, 40, 50, 100, 500]),\n",
    "            \"min_samples_leaf\": trial.suggest_categorical(\"min_samples_leaf\", [11, 21, 51, 101, 501]),\n",
    "            \"max_features\": trial.suggest_categorical(\"max_features\", [None, 'sqrt', 'log2', 5, 10, 15, 20]),\n",
    "            \"n_jobs\": trial.suggest_categorical(\"n_jobs\", [None]),\n",
    "            \"random_state\": trial.suggest_categorical(\"random_state\", [42]),\n",
    "        }\n",
    "\n",
    "\n",
    "        clf = RandomForestClassifier(\n",
    "            **params\n",
    "        )\n",
    "\n",
    "        # Train the model\n",
    "        clf.fit(X_train, y_train)\n",
    "        \n",
    "        # Make predictions\n",
    "        y_pred = clf.predict(X_test)\n",
    "        \n",
    "        # Evaluate the model\n",
    "        f1 = f1_score(y_test, y_pred, average='macro')\n",
    "        \n",
    "        # Log parameters and metrics to MLflow\n",
    "        # mlflow.log_param('n_estimators', n_estimators)\n",
    "        # mlflow.log_param('max_depth', max_depth)\n",
    "        # mlflow.log_param('min_samples_split', min_samples_split)\n",
    "        # mlflow.log_param('min_samples_leaf', min_samples_leaf)\n",
    "        # mlflow.log_param('max_features', max_features)\n",
    "        mlflow.log_params(params)\n",
    "        mlflow.log_metric('f1_score', f1)\n",
    "        \n",
    "    return f1\n",
    "\n"
   ]
  },
  {
   "cell_type": "code",
   "execution_count": 44,
   "metadata": {},
   "outputs": [
    {
     "name": "stdout",
     "output_type": "stream",
     "text": [
      "Current tracking uri: http://localhost:8080\n"
     ]
    }
   ],
   "source": [
    "\n",
    "\n",
    "# mlflow.set_experiment('projeto_mlops')\n",
    "# get the right experiment\n",
    "\n",
    "mlflow.set_tracking_uri(\"http://localhost:8080\")\n",
    "\n",
    "tracking_uri = mlflow.get_tracking_uri()\n",
    "print(f\"Current tracking uri: {tracking_uri}\")\n"
   ]
  },
  {
   "cell_type": "code",
   "execution_count": 45,
   "metadata": {},
   "outputs": [
    {
     "name": "stdout",
     "output_type": "stream",
     "text": [
      "vim para aqui!\n",
      "Experiment ID: 337532007981365636\n"
     ]
    }
   ],
   "source": [
    "my_experiment_id = get_or_create_experiment('mlops_project')\n",
    "description = \"RandomForestClassifier runned in a notebook for testing. Optuna is used for hyperparameter optimization.\"\n",
    "name = \"RandomForestClassifier on notebook\"\n",
    "\n",
    "print(f\"Experiment ID: {my_experiment_id}\")\n",
    "\n"
   ]
  },
  {
   "cell_type": "code",
   "execution_count": 46,
   "metadata": {},
   "outputs": [
    {
     "name": "stderr",
     "output_type": "stream",
     "text": [
      "[I 2024-06-16 00:33:46,325] A new study created in memory with name: no-name-a809c030-0cd3-4eb2-8bec-50d3d5e21416\n",
      "[I 2024-06-16 00:34:08,958] Trial 0 finished with value: 0.4436533095756776 and parameters: {'n_estimators': 50, 'max_depth': 30, 'min_samples_split': 100, 'min_samples_leaf': 11, 'max_features': None, 'n_jobs': None, 'random_state': 42}. Best is trial 0 with value: 0.4436533095756776.\n",
      "[I 2024-06-16 00:34:17,828] Trial 1 finished with value: 0.3749667800941496 and parameters: {'n_estimators': 30, 'max_depth': 50, 'min_samples_split': 500, 'min_samples_leaf': 101, 'max_features': None, 'n_jobs': None, 'random_state': 42}. Best is trial 0 with value: 0.4436533095756776.\n",
      "[I 2024-06-16 00:34:20,480] Trial 2 finished with value: 0.35124907690709356 and parameters: {'n_estimators': 40, 'max_depth': 5, 'min_samples_split': 50, 'min_samples_leaf': 21, 'max_features': 15, 'n_jobs': None, 'random_state': 42}. Best is trial 0 with value: 0.4436533095756776.\n",
      "[I 2024-06-16 00:34:21,228] Trial 3 finished with value: 0.35178830434958974 and parameters: {'n_estimators': 10, 'max_depth': 5, 'min_samples_split': 10, 'min_samples_leaf': 21, 'max_features': 'sqrt', 'n_jobs': None, 'random_state': 42}. Best is trial 0 with value: 0.4436533095756776.\n",
      "[I 2024-06-16 00:34:22,945] Trial 4 finished with value: 0.35033112582781456 and parameters: {'n_estimators': 30, 'max_depth': 20, 'min_samples_split': 20, 'min_samples_leaf': 501, 'max_features': 'sqrt', 'n_jobs': None, 'random_state': 42}. Best is trial 0 with value: 0.4436533095756776.\n",
      "[I 2024-06-16 00:34:25,553] Trial 5 finished with value: 0.35033112582781456 and parameters: {'n_estimators': 100, 'max_depth': 2, 'min_samples_split': 40, 'min_samples_leaf': 101, 'max_features': 10, 'n_jobs': None, 'random_state': 42}. Best is trial 0 with value: 0.4436533095756776.\n",
      "[I 2024-06-16 00:34:27,472] Trial 6 finished with value: 0.431494156211651 and parameters: {'n_estimators': 20, 'max_depth': 40, 'min_samples_split': 20, 'min_samples_leaf': 21, 'max_features': 5, 'n_jobs': None, 'random_state': 42}. Best is trial 0 with value: 0.4436533095756776.\n",
      "[I 2024-06-16 00:34:36,500] Trial 7 finished with value: 0.35033112582781456 and parameters: {'n_estimators': 200, 'max_depth': 20, 'min_samples_split': 500, 'min_samples_leaf': 501, 'max_features': 'sqrt', 'n_jobs': None, 'random_state': 42}. Best is trial 0 with value: 0.4436533095756776.\n",
      "[I 2024-06-16 00:34:38,040] Trial 8 finished with value: 0.3605052733423823 and parameters: {'n_estimators': 20, 'max_depth': 100, 'min_samples_split': 30, 'min_samples_leaf': 101, 'max_features': 'log2', 'n_jobs': None, 'random_state': 42}. Best is trial 0 with value: 0.4436533095756776.\n",
      "[I 2024-06-16 00:34:51,159] Trial 9 finished with value: 0.4150164935059638 and parameters: {'n_estimators': 100, 'max_depth': 30, 'min_samples_split': 50, 'min_samples_leaf': 21, 'max_features': 10, 'n_jobs': None, 'random_state': 42}. Best is trial 0 with value: 0.4436533095756776.\n"
     ]
    },
    {
     "name": "stdout",
     "output_type": "stream",
     "text": [
      "Best parameters:  {'n_estimators': 50, 'max_depth': 30, 'min_samples_split': 100, 'min_samples_leaf': 11, 'max_features': None, 'n_jobs': None, 'random_state': 42}\n",
      "Best F1 score:  0.4436533095756776\n"
     ]
    },
    {
     "name": "stderr",
     "output_type": "stream",
     "text": [
      "c:\\Users\\joaop\\Desktop\\Mestrado\\1º Ano\\2º Semestre\\MLOps\\Laboratório de MLOps\\mlops\\Lib\\site-packages\\mlflow\\types\\utils.py:393: UserWarning: Hint: Inferred schema contains integer column(s). Integer columns in Python cannot represent missing values. If your input data contains missing values at inference time, it will be encoded as floats and will cause a schema enforcement error. The best way to avoid this problem is to infer the model schema based on a realistic data sample (training dataset) that includes missing values. Alternatively, you can declare integer columns as doubles (float64) whenever these columns may have missing values. See `Handling Integers With Missing Values <https://www.mlflow.org/docs/latest/models.html#handling-integers-with-missing-values>`_ for more details.\n",
      "  warnings.warn(\n",
      "2024/06/16 00:34:53 WARNING mlflow.models.signature: Failed to infer the model signature from the input example. Reason: NotFittedError(\"This RandomForestClassifier instance is not fitted yet. Call 'fit' with appropriate arguments before using this estimator.\"). To see the full traceback, set the logging level to DEBUG via `logging.getLogger(\"mlflow\").setLevel(logging.DEBUG)`. To disable automatic signature inference, set `signature` to `False` in your `log_model` or `save_model` call.\n",
      "c:\\Users\\joaop\\Desktop\\Mestrado\\1º Ano\\2º Semestre\\MLOps\\Laboratório de MLOps\\mlops\\Lib\\site-packages\\_distutils_hack\\__init__.py:11: UserWarning: Distutils was imported before Setuptools, but importing Setuptools also replaces the `distutils` module in `sys.modules`. This may lead to undesirable behaviors or errors. To avoid these issues, avoid using distutils directly, ensure that setuptools is installed in the traditional way (e.g. not an editable install), and/or make sure that setuptools is always imported before distutils.\n",
      "  warnings.warn(\n",
      "c:\\Users\\joaop\\Desktop\\Mestrado\\1º Ano\\2º Semestre\\MLOps\\Laboratório de MLOps\\mlops\\Lib\\site-packages\\_distutils_hack\\__init__.py:26: UserWarning: Setuptools is replacing distutils.\n",
      "  warnings.warn(\"Setuptools is replacing distutils.\")\n"
     ]
    },
    {
     "ename": "PermissionError",
     "evalue": "[WinError 5] Access is denied: 'C:\\\\Users\\\\fmppo'",
     "output_type": "error",
     "traceback": [
      "\u001b[1;31m---------------------------------------------------------------------------\u001b[0m",
      "\u001b[1;31mPermissionError\u001b[0m                           Traceback (most recent call last)",
      "Cell \u001b[1;32mIn[46], line 60\u001b[0m\n\u001b[0;32m     58\u001b[0m best_rf\u001b[38;5;241m.\u001b[39mfit(X_train, y_train)\n\u001b[0;32m     59\u001b[0m artifact_path \u001b[38;5;241m=\u001b[39m \u001b[38;5;124m\"\u001b[39m\u001b[38;5;124mrf_classifier_notebook_best_model\u001b[39m\u001b[38;5;124m\"\u001b[39m\n\u001b[1;32m---> 60\u001b[0m \u001b[43mmlflow\u001b[49m\u001b[38;5;241;43m.\u001b[39;49m\u001b[43msklearn\u001b[49m\u001b[38;5;241;43m.\u001b[39;49m\u001b[43mlog_model\u001b[49m\u001b[43m(\u001b[49m\n\u001b[0;32m     61\u001b[0m \u001b[43m    \u001b[49m\u001b[43martifact_path\u001b[49m\u001b[38;5;241;43m=\u001b[39;49m\u001b[43martifact_path\u001b[49m\u001b[43m,\u001b[49m\u001b[43m \u001b[49m\n\u001b[0;32m     62\u001b[0m \u001b[43m    \u001b[49m\u001b[43msk_model\u001b[49m\u001b[38;5;241;43m=\u001b[39;49m\u001b[43mbest_rf_aaa\u001b[49m\u001b[43m,\u001b[49m\u001b[43m \u001b[49m\n\u001b[0;32m     63\u001b[0m \u001b[43m    \u001b[49m\u001b[43minput_example\u001b[49m\u001b[38;5;241;43m=\u001b[39;49m\u001b[43mX_train\u001b[49m\u001b[38;5;241;43m.\u001b[39;49m\u001b[43mhead\u001b[49m\u001b[43m(\u001b[49m\u001b[38;5;241;43m3\u001b[39;49m\u001b[43m)\u001b[49m\u001b[43m,\u001b[49m\u001b[43m \u001b[49m\n\u001b[0;32m     64\u001b[0m \u001b[43m    \u001b[49m\u001b[43mregistered_model_name\u001b[49m\u001b[38;5;241;43m=\u001b[39;49m\u001b[38;5;124;43m\"\u001b[39;49m\u001b[38;5;124;43mrf_classifier_notebook_best_model\u001b[39;49m\u001b[38;5;124;43m\"\u001b[39;49m\u001b[43m,\u001b[49m\n\u001b[0;32m     65\u001b[0m \u001b[43m    \u001b[49m\u001b[43mmetadata\u001b[49m\u001b[43m \u001b[49m\u001b[38;5;241;43m=\u001b[39;49m\u001b[43m \u001b[49m\u001b[43m{\u001b[49m\u001b[38;5;124;43m\"\u001b[39;49m\u001b[38;5;124;43mmodel_data_version\u001b[39;49m\u001b[38;5;124;43m\"\u001b[39;49m\u001b[43m:\u001b[49m\u001b[43m \u001b[49m\u001b[38;5;241;43m0.000000000000000000001\u001b[39;49m\u001b[43m}\u001b[49m\n\u001b[0;32m     66\u001b[0m \u001b[43m    \u001b[49m\u001b[43m)\u001b[49m\n\u001b[0;32m     67\u001b[0m model_uri_rf \u001b[38;5;241m=\u001b[39m mlflow\u001b[38;5;241m.\u001b[39mget_artifact_uri(artifact_path)\n\u001b[0;32m     68\u001b[0m run_id_rf \u001b[38;5;241m=\u001b[39m run\u001b[38;5;241m.\u001b[39minfo\u001b[38;5;241m.\u001b[39mrun_id\n",
      "File \u001b[1;32mc:\\Users\\joaop\\Desktop\\Mestrado\\1º Ano\\2º Semestre\\MLOps\\Laboratório de MLOps\\mlops\\Lib\\site-packages\\mlflow\\sklearn\\__init__.py:419\u001b[0m, in \u001b[0;36mlog_model\u001b[1;34m(sk_model, artifact_path, conda_env, code_paths, serialization_format, registered_model_name, signature, input_example, await_registration_for, pip_requirements, extra_pip_requirements, pyfunc_predict_fn, metadata)\u001b[0m\n\u001b[0;32m    337\u001b[0m \u001b[38;5;129m@format_docstring\u001b[39m(LOG_MODEL_PARAM_DOCS\u001b[38;5;241m.\u001b[39mformat(package_name\u001b[38;5;241m=\u001b[39m\u001b[38;5;124m\"\u001b[39m\u001b[38;5;124mscikit-learn\u001b[39m\u001b[38;5;124m\"\u001b[39m))\n\u001b[0;32m    338\u001b[0m \u001b[38;5;28;01mdef\u001b[39;00m \u001b[38;5;21mlog_model\u001b[39m(\n\u001b[0;32m    339\u001b[0m     sk_model,\n\u001b[1;32m   (...)\u001b[0m\n\u001b[0;32m    351\u001b[0m     metadata\u001b[38;5;241m=\u001b[39m\u001b[38;5;28;01mNone\u001b[39;00m,\n\u001b[0;32m    352\u001b[0m ):\n\u001b[0;32m    353\u001b[0m \u001b[38;5;250m    \u001b[39m\u001b[38;5;124;03m\"\"\"\u001b[39;00m\n\u001b[0;32m    354\u001b[0m \u001b[38;5;124;03m    Log a scikit-learn model as an MLflow artifact for the current run. Produces an MLflow Model\u001b[39;00m\n\u001b[0;32m    355\u001b[0m \u001b[38;5;124;03m    containing the following flavors:\u001b[39;00m\n\u001b[1;32m   (...)\u001b[0m\n\u001b[0;32m    417\u001b[0m \n\u001b[0;32m    418\u001b[0m \u001b[38;5;124;03m    \"\"\"\u001b[39;00m\n\u001b[1;32m--> 419\u001b[0m     \u001b[38;5;28;01mreturn\u001b[39;00m \u001b[43mModel\u001b[49m\u001b[38;5;241;43m.\u001b[39;49m\u001b[43mlog\u001b[49m\u001b[43m(\u001b[49m\n\u001b[0;32m    420\u001b[0m \u001b[43m        \u001b[49m\u001b[43martifact_path\u001b[49m\u001b[38;5;241;43m=\u001b[39;49m\u001b[43martifact_path\u001b[49m\u001b[43m,\u001b[49m\n\u001b[0;32m    421\u001b[0m \u001b[43m        \u001b[49m\u001b[43mflavor\u001b[49m\u001b[38;5;241;43m=\u001b[39;49m\u001b[43mmlflow\u001b[49m\u001b[38;5;241;43m.\u001b[39;49m\u001b[43msklearn\u001b[49m\u001b[43m,\u001b[49m\n\u001b[0;32m    422\u001b[0m \u001b[43m        \u001b[49m\u001b[43msk_model\u001b[49m\u001b[38;5;241;43m=\u001b[39;49m\u001b[43msk_model\u001b[49m\u001b[43m,\u001b[49m\n\u001b[0;32m    423\u001b[0m \u001b[43m        \u001b[49m\u001b[43mconda_env\u001b[49m\u001b[38;5;241;43m=\u001b[39;49m\u001b[43mconda_env\u001b[49m\u001b[43m,\u001b[49m\n\u001b[0;32m    424\u001b[0m \u001b[43m        \u001b[49m\u001b[43mcode_paths\u001b[49m\u001b[38;5;241;43m=\u001b[39;49m\u001b[43mcode_paths\u001b[49m\u001b[43m,\u001b[49m\n\u001b[0;32m    425\u001b[0m \u001b[43m        \u001b[49m\u001b[43mserialization_format\u001b[49m\u001b[38;5;241;43m=\u001b[39;49m\u001b[43mserialization_format\u001b[49m\u001b[43m,\u001b[49m\n\u001b[0;32m    426\u001b[0m \u001b[43m        \u001b[49m\u001b[43mregistered_model_name\u001b[49m\u001b[38;5;241;43m=\u001b[39;49m\u001b[43mregistered_model_name\u001b[49m\u001b[43m,\u001b[49m\n\u001b[0;32m    427\u001b[0m \u001b[43m        \u001b[49m\u001b[43msignature\u001b[49m\u001b[38;5;241;43m=\u001b[39;49m\u001b[43msignature\u001b[49m\u001b[43m,\u001b[49m\n\u001b[0;32m    428\u001b[0m \u001b[43m        \u001b[49m\u001b[43minput_example\u001b[49m\u001b[38;5;241;43m=\u001b[39;49m\u001b[43minput_example\u001b[49m\u001b[43m,\u001b[49m\n\u001b[0;32m    429\u001b[0m \u001b[43m        \u001b[49m\u001b[43mawait_registration_for\u001b[49m\u001b[38;5;241;43m=\u001b[39;49m\u001b[43mawait_registration_for\u001b[49m\u001b[43m,\u001b[49m\n\u001b[0;32m    430\u001b[0m \u001b[43m        \u001b[49m\u001b[43mpip_requirements\u001b[49m\u001b[38;5;241;43m=\u001b[39;49m\u001b[43mpip_requirements\u001b[49m\u001b[43m,\u001b[49m\n\u001b[0;32m    431\u001b[0m \u001b[43m        \u001b[49m\u001b[43mextra_pip_requirements\u001b[49m\u001b[38;5;241;43m=\u001b[39;49m\u001b[43mextra_pip_requirements\u001b[49m\u001b[43m,\u001b[49m\n\u001b[0;32m    432\u001b[0m \u001b[43m        \u001b[49m\u001b[43mpyfunc_predict_fn\u001b[49m\u001b[38;5;241;43m=\u001b[39;49m\u001b[43mpyfunc_predict_fn\u001b[49m\u001b[43m,\u001b[49m\n\u001b[0;32m    433\u001b[0m \u001b[43m        \u001b[49m\u001b[43mmetadata\u001b[49m\u001b[38;5;241;43m=\u001b[39;49m\u001b[43mmetadata\u001b[49m\u001b[43m,\u001b[49m\n\u001b[0;32m    434\u001b[0m \u001b[43m    \u001b[49m\u001b[43m)\u001b[49m\n",
      "File \u001b[1;32mc:\\Users\\joaop\\Desktop\\Mestrado\\1º Ano\\2º Semestre\\MLOps\\Laboratório de MLOps\\mlops\\Lib\\site-packages\\mlflow\\models\\model.py:661\u001b[0m, in \u001b[0;36mModel.log\u001b[1;34m(cls, artifact_path, flavor, registered_model_name, await_registration_for, metadata, run_id, **kwargs)\u001b[0m\n\u001b[0;32m    657\u001b[0m \u001b[38;5;28;01mif\u001b[39;00m mlflow_model\u001b[38;5;241m.\u001b[39msignature \u001b[38;5;129;01mis\u001b[39;00m \u001b[38;5;28;01mNone\u001b[39;00m \u001b[38;5;129;01mand\u001b[39;00m (\n\u001b[0;32m    658\u001b[0m     tracking_uri \u001b[38;5;241m==\u001b[39m \u001b[38;5;124m\"\u001b[39m\u001b[38;5;124mdatabricks\u001b[39m\u001b[38;5;124m\"\u001b[39m \u001b[38;5;129;01mor\u001b[39;00m get_uri_scheme(tracking_uri) \u001b[38;5;241m==\u001b[39m \u001b[38;5;124m\"\u001b[39m\u001b[38;5;124mdatabricks\u001b[39m\u001b[38;5;124m\"\u001b[39m\n\u001b[0;32m    659\u001b[0m ):\n\u001b[0;32m    660\u001b[0m     _logger\u001b[38;5;241m.\u001b[39mwarning(_LOG_MODEL_MISSING_SIGNATURE_WARNING)\n\u001b[1;32m--> 661\u001b[0m \u001b[43mmlflow\u001b[49m\u001b[38;5;241;43m.\u001b[39;49m\u001b[43mtracking\u001b[49m\u001b[38;5;241;43m.\u001b[39;49m\u001b[43mfluent\u001b[49m\u001b[38;5;241;43m.\u001b[39;49m\u001b[43mlog_artifacts\u001b[49m\u001b[43m(\u001b[49m\u001b[43mlocal_path\u001b[49m\u001b[43m,\u001b[49m\u001b[43m \u001b[49m\u001b[43mmlflow_model\u001b[49m\u001b[38;5;241;43m.\u001b[39;49m\u001b[43martifact_path\u001b[49m\u001b[43m,\u001b[49m\u001b[43m \u001b[49m\u001b[43mrun_id\u001b[49m\u001b[43m)\u001b[49m\n\u001b[0;32m    662\u001b[0m \u001b[38;5;28;01mtry\u001b[39;00m:\n\u001b[0;32m    663\u001b[0m     mlflow\u001b[38;5;241m.\u001b[39mtracking\u001b[38;5;241m.\u001b[39mfluent\u001b[38;5;241m.\u001b[39m_record_logged_model(mlflow_model, run_id)\n",
      "File \u001b[1;32mc:\\Users\\joaop\\Desktop\\Mestrado\\1º Ano\\2º Semestre\\MLOps\\Laboratório de MLOps\\mlops\\Lib\\site-packages\\mlflow\\tracking\\fluent.py:1095\u001b[0m, in \u001b[0;36mlog_artifacts\u001b[1;34m(local_dir, artifact_path, run_id)\u001b[0m\n\u001b[0;32m   1063\u001b[0m \u001b[38;5;250m\u001b[39m\u001b[38;5;124;03m\"\"\"\u001b[39;00m\n\u001b[0;32m   1064\u001b[0m \u001b[38;5;124;03mLog all the contents of a local directory as artifacts of the run. If no run is active,\u001b[39;00m\n\u001b[0;32m   1065\u001b[0m \u001b[38;5;124;03mthis method will create a new active run.\u001b[39;00m\n\u001b[1;32m   (...)\u001b[0m\n\u001b[0;32m   1092\u001b[0m \u001b[38;5;124;03m            mlflow.log_artifacts(tmp_dir, artifact_path=\"states\")\u001b[39;00m\n\u001b[0;32m   1093\u001b[0m \u001b[38;5;124;03m\"\"\"\u001b[39;00m\n\u001b[0;32m   1094\u001b[0m run_id \u001b[38;5;241m=\u001b[39m run_id \u001b[38;5;129;01mor\u001b[39;00m _get_or_start_run()\u001b[38;5;241m.\u001b[39minfo\u001b[38;5;241m.\u001b[39mrun_id\n\u001b[1;32m-> 1095\u001b[0m \u001b[43mMlflowClient\u001b[49m\u001b[43m(\u001b[49m\u001b[43m)\u001b[49m\u001b[38;5;241;43m.\u001b[39;49m\u001b[43mlog_artifacts\u001b[49m\u001b[43m(\u001b[49m\u001b[43mrun_id\u001b[49m\u001b[43m,\u001b[49m\u001b[43m \u001b[49m\u001b[43mlocal_dir\u001b[49m\u001b[43m,\u001b[49m\u001b[43m \u001b[49m\u001b[43martifact_path\u001b[49m\u001b[43m)\u001b[49m\n",
      "File \u001b[1;32mc:\\Users\\joaop\\Desktop\\Mestrado\\1º Ano\\2º Semestre\\MLOps\\Laboratório de MLOps\\mlops\\Lib\\site-packages\\mlflow\\tracking\\client.py:1237\u001b[0m, in \u001b[0;36mMlflowClient.log_artifacts\u001b[1;34m(self, run_id, local_dir, artifact_path)\u001b[0m\n\u001b[0;32m   1191\u001b[0m \u001b[38;5;28;01mdef\u001b[39;00m \u001b[38;5;21mlog_artifacts\u001b[39m(\n\u001b[0;32m   1192\u001b[0m     \u001b[38;5;28mself\u001b[39m, run_id: \u001b[38;5;28mstr\u001b[39m, local_dir: \u001b[38;5;28mstr\u001b[39m, artifact_path: Optional[\u001b[38;5;28mstr\u001b[39m] \u001b[38;5;241m=\u001b[39m \u001b[38;5;28;01mNone\u001b[39;00m\n\u001b[0;32m   1193\u001b[0m ) \u001b[38;5;241m-\u001b[39m\u001b[38;5;241m>\u001b[39m \u001b[38;5;28;01mNone\u001b[39;00m:\n\u001b[0;32m   1194\u001b[0m \u001b[38;5;250m    \u001b[39m\u001b[38;5;124;03m\"\"\"Write a directory of files to the remote ``artifact_uri``.\u001b[39;00m\n\u001b[0;32m   1195\u001b[0m \n\u001b[0;32m   1196\u001b[0m \u001b[38;5;124;03m    Args:\u001b[39;00m\n\u001b[1;32m   (...)\u001b[0m\n\u001b[0;32m   1235\u001b[0m \n\u001b[0;32m   1236\u001b[0m \u001b[38;5;124;03m    \"\"\"\u001b[39;00m\n\u001b[1;32m-> 1237\u001b[0m     \u001b[38;5;28;43mself\u001b[39;49m\u001b[38;5;241;43m.\u001b[39;49m\u001b[43m_tracking_client\u001b[49m\u001b[38;5;241;43m.\u001b[39;49m\u001b[43mlog_artifacts\u001b[49m\u001b[43m(\u001b[49m\u001b[43mrun_id\u001b[49m\u001b[43m,\u001b[49m\u001b[43m \u001b[49m\u001b[43mlocal_dir\u001b[49m\u001b[43m,\u001b[49m\u001b[43m \u001b[49m\u001b[43martifact_path\u001b[49m\u001b[43m)\u001b[49m\n",
      "File \u001b[1;32mc:\\Users\\joaop\\Desktop\\Mestrado\\1º Ano\\2º Semestre\\MLOps\\Laboratório de MLOps\\mlops\\Lib\\site-packages\\mlflow\\tracking\\_tracking_service\\client.py:570\u001b[0m, in \u001b[0;36mTrackingServiceClient.log_artifacts\u001b[1;34m(self, run_id, local_dir, artifact_path)\u001b[0m\n\u001b[0;32m    562\u001b[0m \u001b[38;5;28;01mdef\u001b[39;00m \u001b[38;5;21mlog_artifacts\u001b[39m(\u001b[38;5;28mself\u001b[39m, run_id, local_dir, artifact_path\u001b[38;5;241m=\u001b[39m\u001b[38;5;28;01mNone\u001b[39;00m):\n\u001b[0;32m    563\u001b[0m \u001b[38;5;250m    \u001b[39m\u001b[38;5;124;03m\"\"\"Write a directory of files to the remote ``artifact_uri``.\u001b[39;00m\n\u001b[0;32m    564\u001b[0m \n\u001b[0;32m    565\u001b[0m \u001b[38;5;124;03m    Args:\u001b[39;00m\n\u001b[1;32m   (...)\u001b[0m\n\u001b[0;32m    568\u001b[0m \n\u001b[0;32m    569\u001b[0m \u001b[38;5;124;03m    \"\"\"\u001b[39;00m\n\u001b[1;32m--> 570\u001b[0m     \u001b[38;5;28;43mself\u001b[39;49m\u001b[38;5;241;43m.\u001b[39;49m\u001b[43m_get_artifact_repo\u001b[49m\u001b[43m(\u001b[49m\u001b[43mrun_id\u001b[49m\u001b[43m)\u001b[49m\u001b[38;5;241;43m.\u001b[39;49m\u001b[43mlog_artifacts\u001b[49m\u001b[43m(\u001b[49m\u001b[43mlocal_dir\u001b[49m\u001b[43m,\u001b[49m\u001b[43m \u001b[49m\u001b[43martifact_path\u001b[49m\u001b[43m)\u001b[49m\n",
      "File \u001b[1;32mc:\\Users\\joaop\\Desktop\\Mestrado\\1º Ano\\2º Semestre\\MLOps\\Laboratório de MLOps\\mlops\\Lib\\site-packages\\mlflow\\store\\artifact\\local_artifact_repo.py:60\u001b[0m, in \u001b[0;36mLocalArtifactRepository.log_artifacts\u001b[1;34m(self, local_dir, artifact_path)\u001b[0m\n\u001b[0;32m     56\u001b[0m artifact_dir \u001b[38;5;241m=\u001b[39m (\n\u001b[0;32m     57\u001b[0m     os\u001b[38;5;241m.\u001b[39mpath\u001b[38;5;241m.\u001b[39mjoin(\u001b[38;5;28mself\u001b[39m\u001b[38;5;241m.\u001b[39martifact_dir, artifact_path) \u001b[38;5;28;01mif\u001b[39;00m artifact_path \u001b[38;5;28;01melse\u001b[39;00m \u001b[38;5;28mself\u001b[39m\u001b[38;5;241m.\u001b[39martifact_dir\n\u001b[0;32m     58\u001b[0m )\n\u001b[0;32m     59\u001b[0m \u001b[38;5;28;01mif\u001b[39;00m \u001b[38;5;129;01mnot\u001b[39;00m os\u001b[38;5;241m.\u001b[39mpath\u001b[38;5;241m.\u001b[39mexists(artifact_dir):\n\u001b[1;32m---> 60\u001b[0m     \u001b[43mmkdir\u001b[49m\u001b[43m(\u001b[49m\u001b[43martifact_dir\u001b[49m\u001b[43m)\u001b[49m\n\u001b[0;32m     61\u001b[0m shutil\u001b[38;5;241m.\u001b[39mcopytree(src\u001b[38;5;241m=\u001b[39mlocal_dir, dst\u001b[38;5;241m=\u001b[39martifact_dir, dirs_exist_ok\u001b[38;5;241m=\u001b[39m\u001b[38;5;28;01mTrue\u001b[39;00m)\n",
      "File \u001b[1;32mc:\\Users\\joaop\\Desktop\\Mestrado\\1º Ano\\2º Semestre\\MLOps\\Laboratório de MLOps\\mlops\\Lib\\site-packages\\mlflow\\utils\\file_utils.py:212\u001b[0m, in \u001b[0;36mmkdir\u001b[1;34m(root, name)\u001b[0m\n\u001b[0;32m    210\u001b[0m \u001b[38;5;28;01mexcept\u001b[39;00m \u001b[38;5;167;01mOSError\u001b[39;00m \u001b[38;5;28;01mas\u001b[39;00m e:\n\u001b[0;32m    211\u001b[0m     \u001b[38;5;28;01mif\u001b[39;00m e\u001b[38;5;241m.\u001b[39merrno \u001b[38;5;241m!=\u001b[39m errno\u001b[38;5;241m.\u001b[39mEEXIST \u001b[38;5;129;01mor\u001b[39;00m \u001b[38;5;129;01mnot\u001b[39;00m os\u001b[38;5;241m.\u001b[39mpath\u001b[38;5;241m.\u001b[39misdir(target):\n\u001b[1;32m--> 212\u001b[0m         \u001b[38;5;28;01mraise\u001b[39;00m e\n\u001b[0;32m    213\u001b[0m \u001b[38;5;28;01mreturn\u001b[39;00m target\n",
      "File \u001b[1;32mc:\\Users\\joaop\\Desktop\\Mestrado\\1º Ano\\2º Semestre\\MLOps\\Laboratório de MLOps\\mlops\\Lib\\site-packages\\mlflow\\utils\\file_utils.py:209\u001b[0m, in \u001b[0;36mmkdir\u001b[1;34m(root, name)\u001b[0m\n\u001b[0;32m    207\u001b[0m target \u001b[38;5;241m=\u001b[39m os\u001b[38;5;241m.\u001b[39mpath\u001b[38;5;241m.\u001b[39mjoin(root, name) \u001b[38;5;28;01mif\u001b[39;00m name \u001b[38;5;129;01mis\u001b[39;00m \u001b[38;5;129;01mnot\u001b[39;00m \u001b[38;5;28;01mNone\u001b[39;00m \u001b[38;5;28;01melse\u001b[39;00m root\n\u001b[0;32m    208\u001b[0m \u001b[38;5;28;01mtry\u001b[39;00m:\n\u001b[1;32m--> 209\u001b[0m     \u001b[43mos\u001b[49m\u001b[38;5;241;43m.\u001b[39;49m\u001b[43mmakedirs\u001b[49m\u001b[43m(\u001b[49m\u001b[43mtarget\u001b[49m\u001b[43m)\u001b[49m\n\u001b[0;32m    210\u001b[0m \u001b[38;5;28;01mexcept\u001b[39;00m \u001b[38;5;167;01mOSError\u001b[39;00m \u001b[38;5;28;01mas\u001b[39;00m e:\n\u001b[0;32m    211\u001b[0m     \u001b[38;5;28;01mif\u001b[39;00m e\u001b[38;5;241m.\u001b[39merrno \u001b[38;5;241m!=\u001b[39m errno\u001b[38;5;241m.\u001b[39mEEXIST \u001b[38;5;129;01mor\u001b[39;00m \u001b[38;5;129;01mnot\u001b[39;00m os\u001b[38;5;241m.\u001b[39mpath\u001b[38;5;241m.\u001b[39misdir(target):\n",
      "File \u001b[1;32m<frozen os>:215\u001b[0m, in \u001b[0;36mmakedirs\u001b[1;34m(name, mode, exist_ok)\u001b[0m\n",
      "File \u001b[1;32m<frozen os>:215\u001b[0m, in \u001b[0;36mmakedirs\u001b[1;34m(name, mode, exist_ok)\u001b[0m\n",
      "    \u001b[1;31m[... skipping similar frames: makedirs at line 215 (8 times)]\u001b[0m\n",
      "File \u001b[1;32m<frozen os>:215\u001b[0m, in \u001b[0;36mmakedirs\u001b[1;34m(name, mode, exist_ok)\u001b[0m\n",
      "File \u001b[1;32m<frozen os>:225\u001b[0m, in \u001b[0;36mmakedirs\u001b[1;34m(name, mode, exist_ok)\u001b[0m\n",
      "\u001b[1;31mPermissionError\u001b[0m: [WinError 5] Access is denied: 'C:\\\\Users\\\\fmppo'"
     ]
    }
   ],
   "source": [
    "# Start an MLflow run\n",
    "with mlflow.start_run(experiment_id=my_experiment_id, run_name=name, nested=True) as run:\n",
    "    # Create a study object and optimize the objective function\n",
    "    study = optuna.create_study(direction='maximize')\n",
    "    study.optimize(objective, n_trials=10)\n",
    "\n",
    "    # Log the best parameters\n",
    "    mlflow.log_params(study.best_params)\n",
    "    mlflow.log_metric('best_f1_score', study.best_value)\n",
    "\n",
    "    mlflow.set_tags(\n",
    "        tags={\n",
    "            \"project\": \"mlops_project\",\n",
    "            \"description\": description,\n",
    "            \"model_family\": \"RandomForestClassifier\",\n",
    "            \"features_version\":0\n",
    "        }\n",
    "    )\n",
    "\n",
    "\n",
    "    # save the model as an artifact\n",
    "    # mlflow.sklearn.log_model(study.best_trial.user_attrs['model'], artifact_path=\"rf_classifier_notebook\")\n",
    "\n",
    "\n",
    "    # Print the best parameters\n",
    "    print(\"Best parameters: \", study.best_params)\n",
    "    print(\"Best F1 score: \", study.best_value)\n",
    "\n",
    "\n",
    "\n",
    "    best_rf_aaa = RandomForestClassifier(**study.best_params)\n",
    "    train_path = os.path.join(os.path.join(\"..\\\\data\\\\03_primary\\\\X_train_cleaned.csv\"))\n",
    "    target_path = os.path.join(os.path.join(\"..\\\\data\\\\03_primary\\\\y_train_cleaned.csv\"))\n",
    "    # Load the data\n",
    "    X_train = pd.read_csv(train_path)\n",
    "    y_train = pd.read_csv(target_path)\n",
    "\n",
    "\n",
    "\n",
    "    # load test data\n",
    "    X_test = pd.read_csv(os.path.join(\"..\\\\data\\\\03_primary\\\\X_test_cleaned.csv\"))\n",
    "    y_test = pd.read_csv(os.path.join(\"..\\\\data\\\\03_primary\\\\y_test_cleaned.csv\"))\n",
    "\n",
    "    dataset_all_together = pd.merge(X_train, y_train, left_index=True, right_index=True)\n",
    "    dataset_all_together_test = pd.merge(X_test, y_test, left_index=True, right_index=True)\n",
    "\n",
    "    # display(X_train.head(3))\n",
    "    # jasdhasjkasgashjgas\n",
    "    cols_to_drop_temp = [\"diag_1\", \"diag_2\", \"diag_3\"]\n",
    "\n",
    "    dataset_all_together.drop(cols_to_drop_temp, axis=1, inplace=True)\n",
    "    dataset_all_together_test.drop(cols_to_drop_temp, axis=1, inplace=True)\n",
    "    X_train = dataset_all_together.drop('readmitted', axis=1)\n",
    "    y_train = dataset_all_together['readmitted']\n",
    "\n",
    "    X_test = dataset_all_together_test.drop('readmitted', axis=1)\n",
    "    y_test = dataset_all_together_test['readmitted']\n",
    "    best_rf.fit(X_train, y_train)\n",
    "    artifact_path = \"rf_classifier_notebook_best_model\"\n",
    "    mlflow.sklearn.log_model(\n",
    "        artifact_path=artifact_path, \n",
    "        sk_model=best_rf_aaa, \n",
    "        input_example=X_train.head(3), \n",
    "        registered_model_name=\"rf_classifier_notebook_best_model\",\n",
    "        metadata = {\"model_data_version\": 0.000000000000000000001}\n",
    "        )\n",
    "    model_uri_rf = mlflow.get_artifact_uri(artifact_path)\n",
    "    run_id_rf = run.info.run_id\n",
    "    model_path_rf = f\"runs:/{run_id_rf}/model\"\n",
    "    # Print the model path for reference\n",
    "    print(\"Model URI:\", model_uri_rf)\n",
    "    print(\"Run ID:\", run_id_rf)\n",
    "    print(\"Model Path:\", model_path_rf)\n",
    "\n",
    "mlflow.end_run()"
   ]
  },
  {
   "cell_type": "code",
   "execution_count": 25,
   "metadata": {},
   "outputs": [
    {
     "name": "stdout",
     "output_type": "stream",
     "text": [
      "mlflow ui --backend-store-uri sqlite:///mlruns.db --port 5000\n"
     ]
    }
   ],
   "source": [
    "# show url to see mlflow in the browser\n",
    "print(f\"mlflow ui --backend-store-uri sqlite:///mlruns.db --port 5000\")"
   ]
  },
  {
   "cell_type": "code",
   "execution_count": 26,
   "metadata": {},
   "outputs": [
    {
     "name": "stdout",
     "output_type": "stream",
     "text": [
      "Current MLflow tracking URI: file:///c:/Users/joaop/Desktop/Mestrado/1%C2%BA%20Ano/2%C2%BA%20Semestre/MLOps/Laborat%C3%B3rio%20de%20MLOps/projeto-mlops/notebooks/mlruns\n"
     ]
    }
   ],
   "source": [
    "tracking_uri = mlflow.get_tracking_uri()\n",
    "print(f\"Current MLflow tracking URI: {tracking_uri}\")"
   ]
  },
  {
   "cell_type": "code",
   "execution_count": null,
   "metadata": {},
   "outputs": [],
   "source": []
  }
 ],
 "metadata": {
  "kernelspec": {
   "display_name": "mlops",
   "language": "python",
   "name": "python3"
  },
  "language_info": {
   "codemirror_mode": {
    "name": "ipython",
    "version": 3
   },
   "file_extension": ".py",
   "mimetype": "text/x-python",
   "name": "python",
   "nbconvert_exporter": "python",
   "pygments_lexer": "ipython3",
   "version": "3.11.5"
  }
 },
 "nbformat": 4,
 "nbformat_minor": 2
}
