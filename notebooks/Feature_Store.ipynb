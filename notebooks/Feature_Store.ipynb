{
 "cells": [
  {
   "cell_type": "code",
   "execution_count": null,
   "metadata": {},
   "outputs": [],
   "source": [
    "#!pip install python-dotenv"
   ]
  },
  {
   "cell_type": "code",
   "execution_count": 1,
   "metadata": {},
   "outputs": [],
   "source": [
    "import os\n",
    "from pathlib import Path\n",
    "from typing import Union\n",
    "import datetime\n",
    "from dotenv import load_dotenv\n",
    "import hopsworks\n",
    "import json\n",
    "import logging\n",
    "import pandas as pd\n",
    "from great_expectations.core import ExpectationSuite, ExpectationConfiguration"
   ]
  },
  {
   "cell_type": "code",
   "execution_count": 2,
   "metadata": {},
   "outputs": [],
   "source": [
    "def load_env_vars(root_dir: Union[str, Path]) -> dict:\n",
    "    \"\"\"\n",
    "    Load environment variables from .env.default and .env files.\\\\\n",
    "\n",
    "    Args:\n",
    "        root_dir: Root directory of the .env files.\n",
    "\n",
    "    Returns:\n",
    "        Dictionary with the environment variables.\n",
    "    \"\"\"\n",
    "\n",
    "    if isinstance(root_dir, str):\n",
    "        root_dir = Path(root_dir)\n",
    "\n",
    "    load_dotenv(dotenv_path=root_dir / \".env.default\")\n",
    "    load_dotenv(dotenv_path=root_dir / \".env\", override=True)\n",
    "\n",
    "    return dict(os.environ)"
   ]
  },
  {
   "cell_type": "code",
   "execution_count": 3,
   "metadata": {},
   "outputs": [],
   "source": [
    "def get_root_dir(default_value: str = \".\") -> Path:\n",
    "    \"\"\"\n",
    "    Get the root directory of the project.\n",
    "\n",
    "    Args:\n",
    "        default_value: Default value to use if the environment variable is not set.\n",
    "\n",
    "    Returns:\n",
    "        Path to the root directory of the project.\n",
    "    \"\"\"\n",
    "\n",
    "    return Path(os.getenv(\"ML_PIPELINE_ROOT_DIR\", default_value))\n"
   ]
  },
  {
   "cell_type": "markdown",
   "metadata": {},
   "source": [
    "Just if you have any env file to load the settings, run the commands:\n",
    "\n",
    "**ML_PIPELINE_ROOT_DIR = get_root_dir()**\n",
    "\n",
    "\n",
    "**SETTINGS_GENERAL = load_env_vars(root_dir=ML_PIPELINE_ROOT_DIR)**\n",
    "\n",
    "Here I will put them directly in the notebook."
   ]
  },
  {
   "cell_type": "code",
   "execution_count": 6,
   "metadata": {},
   "outputs": [],
   "source": [
    "# project's NOT WORKING\n",
    "SETTINGS_STORE = {\n",
    "    \"FS_API_KEY\" : \"69gkMScoBHwdxjnl.drmoEth2xNKAT2h4Y1WNWM0XOk1v7iUykYZSTbvUlIEyRLIuucDyOz7plnF5qsEK\",\n",
    "    \"FS_PROJECT_NAME\" : \"mlops_api\"\n",
    "}"
   ]
  },
  {
   "cell_type": "code",
   "execution_count": 7,
   "metadata": {},
   "outputs": [
    {
     "name": "stdout",
     "output_type": "stream",
     "text": [
      "Connection closed.\n",
      "Connected. Call `.close()` to terminate connection gracefully.\n"
     ]
    },
    {
     "ename": "ProjectException",
     "evalue": "Could not find project mlops_api",
     "output_type": "error",
     "traceback": [
      "\u001b[1;31m---------------------------------------------------------------------------\u001b[0m",
      "\u001b[1;31mProjectException\u001b[0m                          Traceback (most recent call last)",
      "Cell \u001b[1;32mIn[7], line 3\u001b[0m\n\u001b[0;32m      1\u001b[0m \u001b[38;5;66;03m# checking connection\u001b[39;00m\n\u001b[1;32m----> 3\u001b[0m project \u001b[38;5;241m=\u001b[39m \u001b[43mhopsworks\u001b[49m\u001b[38;5;241;43m.\u001b[39;49m\u001b[43mlogin\u001b[49m\u001b[43m(\u001b[49m\n\u001b[0;32m      4\u001b[0m \u001b[43m        \u001b[49m\u001b[43mapi_key_value\u001b[49m\u001b[38;5;241;43m=\u001b[39;49m\u001b[43mSETTINGS_STORE\u001b[49m\u001b[43m[\u001b[49m\u001b[38;5;124;43m\"\u001b[39;49m\u001b[38;5;124;43mFS_API_KEY\u001b[39;49m\u001b[38;5;124;43m\"\u001b[39;49m\u001b[43m]\u001b[49m\u001b[43m,\u001b[49m\u001b[43m \u001b[49m\u001b[43mproject\u001b[49m\u001b[38;5;241;43m=\u001b[39;49m\u001b[43mSETTINGS_STORE\u001b[49m\u001b[43m[\u001b[49m\u001b[38;5;124;43m\"\u001b[39;49m\u001b[38;5;124;43mFS_PROJECT_NAME\u001b[39;49m\u001b[38;5;124;43m\"\u001b[39;49m\u001b[43m]\u001b[49m\n\u001b[0;32m      5\u001b[0m \u001b[43m    \u001b[49m\u001b[43m)\u001b[49m\n\u001b[0;32m      7\u001b[0m feature_store \u001b[38;5;241m=\u001b[39m project\u001b[38;5;241m.\u001b[39mget_feature_store()\n",
      "File \u001b[1;32m~\\Desktop\\MSDSAA\\Y1\\S2\\MLOps\\env\\lib\\site-packages\\hopsworks\\__init__.py:198\u001b[0m, in \u001b[0;36mlogin\u001b[1;34m(host, port, project, api_key_value, api_key_file)\u001b[0m\n\u001b[0;32m    196\u001b[0m \u001b[38;5;28;01mtry\u001b[39;00m:\n\u001b[0;32m    197\u001b[0m     _hw_connection \u001b[38;5;241m=\u001b[39m _hw_connection(host\u001b[38;5;241m=\u001b[39mhost, port\u001b[38;5;241m=\u001b[39mport, api_key_value\u001b[38;5;241m=\u001b[39mapi_key)\n\u001b[1;32m--> 198\u001b[0m     _connected_project \u001b[38;5;241m=\u001b[39m \u001b[43m_prompt_project\u001b[49m\u001b[43m(\u001b[49m\u001b[43m_hw_connection\u001b[49m\u001b[43m,\u001b[49m\u001b[43m \u001b[49m\u001b[43mproject\u001b[49m\u001b[43m)\u001b[49m\n\u001b[0;32m    199\u001b[0m \u001b[38;5;28;01mexcept\u001b[39;00m RestAPIError \u001b[38;5;28;01mas\u001b[39;00m e:\n\u001b[0;32m    200\u001b[0m     logout()\n",
      "File \u001b[1;32m~\\Desktop\\MSDSAA\\Y1\\S2\\MLOps\\env\\lib\\site-packages\\hopsworks\\__init__.py:281\u001b[0m, in \u001b[0;36m_prompt_project\u001b[1;34m(valid_connection, project)\u001b[0m\n\u001b[0;32m    279\u001b[0m     \u001b[38;5;28;01mif\u001b[39;00m proj\u001b[38;5;241m.\u001b[39mname \u001b[38;5;241m==\u001b[39m project:\n\u001b[0;32m    280\u001b[0m         \u001b[38;5;28;01mreturn\u001b[39;00m proj\n\u001b[1;32m--> 281\u001b[0m \u001b[38;5;28;01mraise\u001b[39;00m ProjectException(\u001b[38;5;124m\"\u001b[39m\u001b[38;5;124mCould not find project \u001b[39m\u001b[38;5;132;01m{}\u001b[39;00m\u001b[38;5;124m\"\u001b[39m\u001b[38;5;241m.\u001b[39mformat(project))\n",
      "\u001b[1;31mProjectException\u001b[0m: Could not find project mlops_api"
     ]
    }
   ],
   "source": [
    "# checking connection\n",
    "\n",
    "project = hopsworks.login(\n",
    "        api_key_value=SETTINGS_STORE[\"FS_API_KEY\"], project=SETTINGS_STORE[\"FS_PROJECT_NAME\"]\n",
    "    )\n",
    "\n",
    "feature_store = project.get_feature_store()"
   ]
  },
  {
   "cell_type": "markdown",
   "metadata": {},
   "source": [
    "-------------- PAREI AQUI //Andre 14/06 00:59 ------------------"
   ]
  },
  {
   "cell_type": "code",
   "execution_count": 11,
   "metadata": {},
   "outputs": [],
   "source": [
    "def to_feature_store(\n",
    "    data: pd.DataFrame,\n",
    "    group_name: str,\n",
    "    feature_group_version: int,\n",
    "    description: str,\n",
    "    group_description: dict,\n",
    "    validation_expectation_suite: ExpectationSuite,\n",
    "    SETTINGS: dict\n",
    "):\n",
    "    \"\"\"\n",
    "    This function takes in a pandas DataFrame and a validation expectation suite,\n",
    "    performs validation on the data using the suite, and then saves the data to a\n",
    "    feature store in the feature store.\n",
    "\n",
    "    Args:\n",
    "        data (pd.DataFrame): Dataframe with the data to be stored\n",
    "        group_name (str): Name of the feature group.\n",
    "        feature_group_version (int): Version of the feature group.\n",
    "        description (str): Description for the feature group.\n",
    "        group_description (dict): Description of each feature of the feature group. \n",
    "        validation_expectation_suite (ExpectationSuite): group of expectations to check data.\n",
    "        SETTINGS (dict): Dictionary with the settings definitions to connect to the project.\n",
    "        \n",
    "    Returns:\n",
    "        A dictionary with the feature view version, feature view name and training dataset feature version.\n",
    "    \n",
    "    \n",
    "    \"\"\"\n",
    "    # Connect to feature store.\n",
    "    project = hopsworks.login(\n",
    "        api_key_value=SETTINGS[\"FS_API_KEY\"], project=SETTINGS[\"FS_PROJECT_NAME\"]\n",
    "    )\n",
    "    feature_store = project.get_feature_store()\n",
    "\n",
    "    # Create feature group.\n",
    "    object_feature_group = feature_store.get_or_create_feature_group(\n",
    "        name=group_name,\n",
    "        version=feature_group_version,\n",
    "        description= description,\n",
    "        primary_key=[\"index\"],\n",
    "        event_time=\"datetime\",\n",
    "        online_enabled=False,\n",
    "        expectation_suite=validation_expectation_suite,\n",
    "    )\n",
    "    # Upload data.\n",
    "    object_feature_group.insert(\n",
    "        features=data,\n",
    "        overwrite=False,\n",
    "        write_options={\n",
    "            \"wait_for_job\": True,\n",
    "        },\n",
    "    )\n",
    "\n",
    "    # Add feature descriptions.\n",
    "\n",
    "    for description in group_description:\n",
    "        object_feature_group.update_feature_description(\n",
    "            description[\"name\"], description[\"description\"]\n",
    "        )\n",
    "\n",
    "    # Update statistics.\n",
    "    object_feature_group.statistics_config = {\n",
    "        \"enabled\": True,\n",
    "        \"histograms\": True,\n",
    "        \"correlations\": True,\n",
    "    }\n",
    "    object_feature_group.update_statistics_config()\n",
    "    object_feature_group.compute_statistics()\n",
    "\n",
    "    return object_feature_group"
   ]
  }
 ],
 "metadata": {
  "kernelspec": {
   "display_name": "Python 3 (ipykernel)",
   "language": "python",
   "name": "python3"
  },
  "language_info": {
   "codemirror_mode": {
    "name": "ipython",
    "version": 3
   },
   "file_extension": ".py",
   "mimetype": "text/x-python",
   "name": "python",
   "nbconvert_exporter": "python",
   "pygments_lexer": "ipython3",
   "version": "3.10.14"
  }
 },
 "nbformat": 4,
 "nbformat_minor": 4
}
