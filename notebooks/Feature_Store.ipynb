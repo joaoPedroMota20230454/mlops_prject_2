{
 "cells": [
  {
   "cell_type": "code",
   "execution_count": null,
   "metadata": {},
   "outputs": [],
   "source": [
    "#!pip install python-dotenv"
   ]
  },
  {
   "cell_type": "code",
   "execution_count": 1,
   "metadata": {},
   "outputs": [],
   "source": [
    "import os\n",
    "from pathlib import Path\n",
    "from typing import Union\n",
    "import datetime\n",
    "from dotenv import load_dotenv\n",
    "import hopsworks\n",
    "import json\n",
    "import logging\n",
    "import pandas as pd\n",
    "from great_expectations.core import ExpectationSuite, ExpectationConfiguration"
   ]
  },
  {
   "cell_type": "code",
   "execution_count": 2,
   "metadata": {},
   "outputs": [],
   "source": [
    "def load_env_vars(root_dir: Union[str, Path]) -> dict:\n",
    "    \"\"\"\n",
    "    Load environment variables from .env.default and .env files.\\\\\n",
    "\n",
    "    Args:\n",
    "        root_dir: Root directory of the .env files.\n",
    "\n",
    "    Returns:\n",
    "        Dictionary with the environment variables.\n",
    "    \"\"\"\n",
    "\n",
    "    if isinstance(root_dir, str):\n",
    "        root_dir = Path(root_dir)\n",
    "\n",
    "    load_dotenv(dotenv_path=root_dir / \".env.default\")\n",
    "    load_dotenv(dotenv_path=root_dir / \".env\", override=True)\n",
    "\n",
    "    return dict(os.environ)"
   ]
  },
  {
   "cell_type": "code",
   "execution_count": 3,
   "metadata": {},
   "outputs": [],
   "source": [
    "def get_root_dir(default_value: str = \".\") -> Path:\n",
    "    \"\"\"\n",
    "    Get the root directory of the project.\n",
    "\n",
    "    Args:\n",
    "        default_value: Default value to use if the environment variable is not set.\n",
    "\n",
    "    Returns:\n",
    "        Path to the root directory of the project.\n",
    "    \"\"\"\n",
    "\n",
    "    return Path(os.getenv(\"ML_PIPELINE_ROOT_DIR\", default_value))\n"
   ]
  },
  {
   "cell_type": "markdown",
   "metadata": {},
   "source": [
    "Just if you have any env file to load the settings, run the commands:\n",
    "\n",
    "**ML_PIPELINE_ROOT_DIR = get_root_dir()**\n",
    "\n",
    "\n",
    "**SETTINGS_GENERAL = load_env_vars(root_dir=ML_PIPELINE_ROOT_DIR)**\n",
    "\n",
    "Here I will put them directly in the notebook."
   ]
  },
  {
   "cell_type": "code",
   "execution_count": 4,
   "metadata": {},
   "outputs": [],
   "source": [
    "# Project now working (15/06 17:22h)\n",
    "SETTINGS_STORE = {\n",
    "    \"FS_API_KEY\" : \"69gkMScoBHwdxjnl.drmoEth2xNKAT2h4Y1WNWM0XOk1v7iUykYZSTbvUlIEyRLIuucDyOz7plnF5qsEK\",\n",
    "    \"FS_PROJECT_NAME\" : \"mlops_novaims\"\n",
    "}"
   ]
  },
  {
   "cell_type": "code",
   "execution_count": 5,
   "metadata": {},
   "outputs": [
    {
     "name": "stdout",
     "output_type": "stream",
     "text": [
      "Connected. Call `.close()` to terminate connection gracefully.\n",
      "\n",
      "Logged in to project, explore it here https://c.app.hopsworks.ai:443/p/800920\n",
      "Connected. Call `.close()` to terminate connection gracefully.\n"
     ]
    }
   ],
   "source": [
    "# checking connection\n",
    "\n",
    "project = hopsworks.login(\n",
    "        api_key_value=SETTINGS_STORE[\"FS_API_KEY\"], project=SETTINGS_STORE[\"FS_PROJECT_NAME\"]\n",
    "    )\n",
    "\n",
    "feature_store = project.get_feature_store()"
   ]
  },
  {
   "cell_type": "markdown",
   "metadata": {},
   "source": [
    "-------------- PAREI AQUI //Andre 14/06 00:59 ------------------"
   ]
  },
  {
   "cell_type": "code",
   "execution_count": 11,
   "metadata": {},
   "outputs": [],
   "source": [
    "def to_feature_store(\n",
    "    data: pd.DataFrame,\n",
    "    group_name: str,\n",
    "    feature_group_version: int,\n",
    "    description: str,\n",
    "    group_description: dict,\n",
    "    validation_expectation_suite: ExpectationSuite,\n",
    "    SETTINGS: dict\n",
    "):\n",
    "    \"\"\"\n",
    "    This function takes in a pandas DataFrame and a validation expectation suite,\n",
    "    performs validation on the data using the suite, and then saves the data to a\n",
    "    feature store in the feature store.\n",
    "\n",
    "    Args:\n",
    "        data (pd.DataFrame): Dataframe with the data to be stored\n",
    "        group_name (str): Name of the feature group.\n",
    "        feature_group_version (int): Version of the feature group.\n",
    "        description (str): Description for the feature group.\n",
    "        group_description (dict): Description of each feature of the feature group. \n",
    "        validation_expectation_suite (ExpectationSuite): group of expectations to check data.\n",
    "        SETTINGS (dict): Dictionary with the settings definitions to connect to the project.\n",
    "        \n",
    "    Returns:\n",
    "        A dictionary with the feature view version, feature view name and training dataset feature version.\n",
    "    \n",
    "    \n",
    "    \"\"\"\n",
    "    # Connect to feature store.\n",
    "    project = hopsworks.login(\n",
    "        api_key_value=SETTINGS[\"FS_API_KEY\"], project=SETTINGS[\"FS_PROJECT_NAME\"]\n",
    "    )\n",
    "    feature_store = project.get_feature_store()\n",
    "\n",
    "    # Create feature group.\n",
    "    object_feature_group = feature_store.get_or_create_feature_group(\n",
    "        name=group_name,\n",
    "        version=feature_group_version,\n",
    "        description= description,\n",
    "        primary_key=[\"index\"],\n",
    "        event_time=\"datetime\",\n",
    "        online_enabled=False,\n",
    "        expectation_suite=validation_expectation_suite,\n",
    "    )\n",
    "    # Upload data.\n",
    "    object_feature_group.insert(\n",
    "        features=data,\n",
    "        overwrite=False,\n",
    "        write_options={\n",
    "            \"wait_for_job\": True,\n",
    "        },\n",
    "    )\n",
    "\n",
    "    # Add feature descriptions.\n",
    "\n",
    "    for description in group_description:\n",
    "        object_feature_group.update_feature_description(\n",
    "            description[\"name\"], description[\"description\"]\n",
    "        )\n",
    "\n",
    "    # Update statistics.\n",
    "    object_feature_group.statistics_config = {\n",
    "        \"enabled\": True,\n",
    "        \"histograms\": True,\n",
    "        \"correlations\": True,\n",
    "    }\n",
    "    object_feature_group.update_statistics_config()\n",
    "    object_feature_group.compute_statistics()\n",
    "\n",
    "    return object_feature_group"
   ]
  }
 ],
 "metadata": {
  "kernelspec": {
   "display_name": "Python 3 (ipykernel)",
   "language": "python",
   "name": "python3"
  },
  "language_info": {
   "codemirror_mode": {
    "name": "ipython",
    "version": 3
   },
   "file_extension": ".py",
   "mimetype": "text/x-python",
   "name": "python",
   "nbconvert_exporter": "python",
   "pygments_lexer": "ipython3",
   "version": "3.10.11"
  }
 },
 "nbformat": 4,
 "nbformat_minor": 4
}
